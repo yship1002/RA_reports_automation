{
 "cells": [
  {
   "cell_type": "code",
   "execution_count": 27,
   "metadata": {},
   "outputs": [],
   "source": [
    "from selenium import webdriver\n",
    "from selenium.webdriver.chrome.service import Service\n",
    "from webdriver_manager.chrome import ChromeDriverManager\n",
    "from selenium.webdriver.common.by import By\n",
    "import time\n",
    "browser = webdriver.Chrome(service=Service(ChromeDriverManager().install()))\n",
    "browser.get(\"https://tulane.co1.qualtrics.com/jfe/form/SV_8cPKBFFlnThh4Oi\")\n",
    "time.sleep(2)\n",
    "button=browser.find_element(By.ID,\"QID49-1-label\")\n",
    "button.click()\n",
    "firstname=\"Jingzhi\"\n",
    "lastname=\"Yang\"\n",
    "tulaneemail=\"jyang10@tulane.edu\"\n",
    "browser.find_element(By.ID,\"QR~QID51~1\").send_keys(firstname)\n",
    "browser.find_element(By.ID,\"QR~QID51~2\").send_keys(lastname)\n",
    "browser.find_element(By.ID,\"QR~QID51~3\").send_keys(tulaneemail)\n",
    "time.sleep(2)\n",
    "button=browser.find_element(By.ID,\"QR~QID46~30\")\n",
    "button.click()\n",
    "button=browser.find_element(By.ID,\"NextButton\")\n",
    "button.click()\n",
    "time.sleep(2)\n",
    "button=browser.find_element(By.ID,\"QID47-1-label\")\n",
    "button.click()\n",
    "button=browser.find_element(By.ID,\"NextButton\")\n",
    "button.click()\n",
    "time.sleep(2)\n",
    "# RA responsibilites?\n",
    "browser.find_element(By.ID,'QR~QID40').send_keys('Intentional conversation done')\n",
    "# Looking forward next week?//\n",
    "browser.find_element(By.ID,'QR~QID36').send_keys('writing grad school applications')\n",
    "# How to support you?//\n",
    "browser.find_element(By.ID,'QR~QID42').send_keys('N/A')\n",
    "# add to next staff meeting?//\n",
    "browser.find_element(By.ID,'QR~QID43').send_keys('Shout out to Caleb for co-hosting community builder')\n",
    "# names of residents interacting\n",
    "browser.find_element(By.ID,'QR~QID41').send_keys('a few')\n",
    "# topic for one on one?//\n",
    "browser.find_element(By.ID,'QR~QID67').send_keys('evaluation I guess?')\n",
    "# intentional conversation resident names?//\n",
    "browser.find_element(By.ID,'QR~QID44').send_keys('a few')\n",
    "button=browser.find_element(By.ID,\"NextButton\")\n",
    "button.click()\n",
    "browser.quit()"
   ]
  }
 ],
 "metadata": {
  "kernelspec": {
   "display_name": "Python 3",
   "language": "python",
   "name": "python3"
  },
  "language_info": {
   "codemirror_mode": {
    "name": "ipython",
    "version": 3
   },
   "file_extension": ".py",
   "mimetype": "text/x-python",
   "name": "python",
   "nbconvert_exporter": "python",
   "pygments_lexer": "ipython3",
   "version": "3.8.5"
  }
 },
 "nbformat": 4,
 "nbformat_minor": 4
}
