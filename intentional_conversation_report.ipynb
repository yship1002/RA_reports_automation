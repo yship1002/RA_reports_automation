{
 "cells": [
  {
   "cell_type": "code",
   "execution_count": 3,
   "metadata": {},
   "outputs": [
    {
     "name": "stderr",
     "output_type": "stream",
     "text": [
      "[WDM] - Downloading:  92%|█████████▏| 7.72M/8.41M [00:00<00:00, 23.0MB/s]"
     ]
    }
   ],
   "source": [
    "from selenium import webdriver\n",
    "from selenium.webdriver.chrome.service import Service\n",
    "from webdriver_manager.chrome import ChromeDriverManager\n",
    "from selenium.webdriver.common.by import By\n",
    "import time\n",
    "from selenium.webdriver.common.action_chains import ActionChains\n",
    "import pandas as pd\n",
    "import re\n",
    "df=pd.read_csv(\"./roster.csv\")\n",
    "df['Room']=[re.findall(\"(?<=[-])\\d{3}(?=[-])\",i)[0] for i in df['Room']]\n",
    "browser = webdriver.Chrome(service=Service(ChromeDriverManager().install()))"
   ]
  },
  {
   "cell_type": "code",
   "execution_count": 5,
   "metadata": {},
   "outputs": [
    {
     "name": "stderr",
     "output_type": "stream",
     "text": [
      "\r",
      "[WDM] - Downloading: 100%|██████████| 8.41M/8.41M [00:20<00:00, 23.0MB/s]"
     ]
    }
   ],
   "source": [
    "for i in df.index:\n",
    "    browser = webdriver.Chrome(service=Service(ChromeDriverManager().install()))\n",
    "    browser.get(\"https://tulane.co1.qualtrics.com/jfe/form/SV_8cPKBFFlnThh4Oi\")\n",
    "    time.sleep(1)\n",
    "    button=browser.find_element(By.ID,\"QID49-1-label\")\n",
    "    button.click()\n",
    "    RA_firstname=\"Jingzhi\"\n",
    "    RA_lastname=\"Yang\"\n",
    "    RA_tulaneemail=\"jyang10@tulane.edu\"\n",
    "    browser.find_element(By.ID,\"QR~QID51~1\").send_keys(RA_firstname)\n",
    "    browser.find_element(By.ID,\"QR~QID51~2\").send_keys(RA_lastname)\n",
    "    browser.find_element(By.ID,\"QR~QID51~3\").send_keys(RA_tulaneemail)\n",
    "    time.sleep(2)\n",
    "    button=browser.find_element(By.ID,\"QR~QID46~30\")\n",
    "    button.click()\n",
    "    button=browser.find_element(By.ID,\"NextButton\")\n",
    "    button.click()\n",
    "    time.sleep(2)\n",
    "    button=browser.find_element(By.ID,\"QID47-3-label\")\n",
    "    button.click()\n",
    "    button=browser.find_element(By.ID,\"NextButton\")\n",
    "    button.click()\n",
    "    time.sleep(2)\n",
    "    # First Name?\n",
    "    browser.find_element(By.ID,'QR~QID7~1').send_keys(df['FirstName'][i])\n",
    "    # Last Name?\n",
    "    browser.find_element(By.ID,'QR~QID7~2').send_keys(df['LastName'][i])\n",
    "    # Room number?\n",
    "    browser.find_element(By.ID,'QR~QID7~3').send_keys(df['Room'][i])\n",
    "    # Date of Conversation Month?\n",
    "    browser.find_element(By.ID,'QR~QID8~1').send_keys(str(df['Month'][i]))\n",
    "    # Day?\n",
    "    browser.find_element(By.ID,'QR~QID8~2').send_keys(str(df['Day'][i]))\n",
    "    # Year?\n",
    "    browser.find_element(By.ID,'QR~QID8~3').send_keys(str(df['Year'][i]))\n",
    "    # Move Slider to minute\n",
    "    slider=browser.find_element(By.ID,'QID9~1~track')\n",
    "    ActionChains(browser).move_to_element(slider).move_by_offset((df['Minutes'][i]-30)/30*int(slider.size['width']/2), 0).click().perform()\n",
    "    # Conversation topic default academic\n",
    "    button=browser.find_element(By.ID,\"QID10-1-label\")\n",
    "    button.click()\n",
    "    # Did you submit incident report default No\n",
    "    button=browser.find_element(By.ID,\"QID12-2-label\")\n",
    "    button.click()\n",
    "    time.sleep(2)\n",
    "    # Did you want to follow-up with RD? default no\n",
    "    button=browser.find_element(By.ID,\"QID13-2-label\")\n",
    "    button.click()\n",
    "    # Did student want to transfer? default no\n",
    "    button=browser.find_element(By.ID,\"QID14-2-label\")\n",
    "    button.click()"
   ]
  }
 ],
 "metadata": {
  "kernelspec": {
   "display_name": "Python 3",
   "language": "python",
   "name": "python3"
  },
  "language_info": {
   "codemirror_mode": {
    "name": "ipython",
    "version": 3
   },
   "file_extension": ".py",
   "mimetype": "text/x-python",
   "name": "python",
   "nbconvert_exporter": "python",
   "pygments_lexer": "ipython3",
   "version": "3.8.5"
  }
 },
 "nbformat": 4,
 "nbformat_minor": 4
}
