{
 "cells": [
  {
   "cell_type": "code",
   "execution_count": 1,
   "metadata": {},
   "outputs": [],
   "source": [
    "#https://www.lambdatest.com/blog/how-to-automate-filling-in-web-forms-with-python-using-selenium/\n",
    "from selenium import webdriver\n",
    "from selenium.webdriver.chrome.service import Service\n",
    "from webdriver_manager.chrome import ChromeDriverManager\n",
    "from selenium.webdriver.common.by import By\n",
    "import os\n",
    "import json\n",
    "import glob\n",
    "import time\n",
    "import datetime\n",
    "\n",
    "#145.108.93.220 129.81.255.94"
   ]
  },
  {
   "cell_type": "code",
   "execution_count": 16,
   "metadata": {},
   "outputs": [],
   "source": [
    "files=glob.glob(\"/Users/jyang10/Documents/2022Fall/Project/dataset/*.txt\")\n",
    "records=[]\n",
    "for file in files:\n",
    "    with open (file, 'r') as openfile:\n",
    "        json_object = json.load(openfile)\n",
    "        records+=json_object"
   ]
  },
  {
   "cell_type": "code",
   "execution_count": 17,
   "metadata": {},
   "outputs": [],
   "source": [
    "ipaddress=[]\n",
    "for i,j in enumerate(records):\n",
    "    if (\"location\" in j) and (\"userAgent\" in j['device']):\n",
    "        ipaddress.append(j['device']['clientIP'])"
   ]
  },
  {
   "cell_type": "code",
   "execution_count": 18,
   "metadata": {},
   "outputs": [
    {
     "name": "stderr",
     "output_type": "stream",
     "text": [
      "[WDM] - Downloading: 100%|██████████| 8.08M/8.08M [00:20<00:00, 8.40MB/s]"
     ]
    },
    {
     "name": "stdout",
     "output_type": "stream",
     "text": [
      "Sleeping Don't disturb!\r"
     ]
    },
    {
     "ename": "KeyboardInterrupt",
     "evalue": "",
     "output_type": "error",
     "traceback": [
      "\u001b[0;31m---------------------------------------------------------------------------\u001b[0m",
      "\u001b[0;31mKeyboardInterrupt\u001b[0m                         Traceback (most recent call last)",
      "\u001b[0;32m<ipython-input-18-321ab3bcafaf>\u001b[0m in \u001b[0;36m<module>\u001b[0;34m\u001b[0m\n\u001b[1;32m     21\u001b[0m     \u001b[0mbrowser\u001b[0m\u001b[0;34m.\u001b[0m\u001b[0mquit\u001b[0m\u001b[0;34m(\u001b[0m\u001b[0;34m)\u001b[0m\u001b[0;34m\u001b[0m\u001b[0;34m\u001b[0m\u001b[0m\n\u001b[1;32m     22\u001b[0m     \u001b[0mprint\u001b[0m\u001b[0;34m(\u001b[0m\u001b[0;34m\"Sleeping Don't disturb!\"\u001b[0m\u001b[0;34m,\u001b[0m\u001b[0mend\u001b[0m\u001b[0;34m=\u001b[0m\u001b[0;34m\"\\r\"\u001b[0m\u001b[0;34m)\u001b[0m\u001b[0;34m\u001b[0m\u001b[0;34m\u001b[0m\u001b[0m\n\u001b[0;32m---> 23\u001b[0;31m     \u001b[0mtime\u001b[0m\u001b[0;34m.\u001b[0m\u001b[0msleep\u001b[0m\u001b[0;34m(\u001b[0m\u001b[0;36m3600\u001b[0m\u001b[0;34m)\u001b[0m\u001b[0;34m\u001b[0m\u001b[0;34m\u001b[0m\u001b[0m\n\u001b[0m",
      "\u001b[0;31mKeyboardInterrupt\u001b[0m: "
     ]
    }
   ],
   "source": [
    "\n",
    "path=\"/Users/jyang10/Documents/2022Fall/Project/IP_history.json\"\n",
    "if os.path.exists(path) and os.stat(path).st_size > 0 :\n",
    "    with open(path, 'r') as infile:\n",
    "        history=json.load(infile)\n",
    "else:\n",
    "    history={}\n",
    "while True:\n",
    "    count=0\n",
    "    browser = webdriver.Chrome(service=Service(ChromeDriverManager().install()))\n",
    "    for ip in ipaddress:\n",
    "        if ip not in history and count<59:\n",
    "            count+=1\n",
    "            browser.get(\"https://www.abuseipdb.com/check/\"+str(ip))\n",
    "            data=browser.find_elements(By.CLASS_NAME,\"well\")[0].text.split(\"\\n\")\n",
    "            if \"not\" in data[0]:\n",
    "                history[ip]={\"riskscore\":0}\n",
    "            else:\n",
    "                history[ip]={\"riskscore\":data[3].replace(\"%\",\"\")}\n",
    "    with open(path, 'w') as outfile:\n",
    "        json.dump(history,outfile)\n",
    "    browser.quit()\n",
    "    print(\"Last Run:\"+str(datetime.datetime.now())+\"Sleeping Don't disturb!\",end=\"\\r\")\n",
    "    time.sleep(3600)"
   ]
  }
 ],
 "metadata": {
  "kernelspec": {
   "display_name": "Python 3",
   "language": "python",
   "name": "python3"
  },
  "language_info": {
   "codemirror_mode": {
    "name": "ipython",
    "version": 3
   },
   "file_extension": ".py",
   "mimetype": "text/x-python",
   "name": "python",
   "nbconvert_exporter": "python",
   "pygments_lexer": "ipython3",
   "version": "3.8.5"
  }
 },
 "nbformat": 4,
 "nbformat_minor": 4
}
